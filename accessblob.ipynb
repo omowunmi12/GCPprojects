{
  "nbformat": 4,
  "nbformat_minor": 0,
  "metadata": {
    "colab": {
      "name": "accessblob.ipynb",
      "provenance": []
    },
    "kernelspec": {
      "name": "python3",
      "display_name": "Python 3"
    }
  },
  "cells": [
    {
      "cell_type": "code",
      "metadata": {
        "id": "hI3vPwZVfJs2"
      },
      "source": [
        "from google.cloud import storage\r\n",
        "import pandas as pd\r\n",
        "\r\n",
        "\r\n",
        "def accessblob(bucket_name, blob_name, blobpath):\r\n",
        "#   \r\n",
        "\r\n",
        "    storage_client = storage.Client()\r\n",
        "\r\n",
        "    bucket = storage_client.bucket(bucket_name)\r\n",
        "    \r\n",
        "#     bucket = storage_client.bucket(\"sentinel-1-images\")\r\n",
        "    \r\n",
        "    blob = blob_name\r\n",
        "\r\n",
        "#     blob = bucket.blob(\"winemag-data-130k-v2.csv\")\r\n",
        "    \r\n",
        "    path = blobpath\r\n",
        "\r\n",
        "#     path = \"gs://sentinel-1-images/winemag-data-130k-v2.csv\"\r\n",
        "\r\n",
        "    df= pd.read_csv(path)\r\n",
        "\r\n",
        "    return df\r\n",
        "\r\n",
        "#     print(df)\r\n",
        "    \r\n",
        "\r\n",
        "    \r\n",
        "accessblob(\"sentinel-1-images\",\"winemag-data-130k-v2.csv\", \"gs://sentinel-1-images/winemag-data-130k-v2.csv\")"
      ],
      "execution_count": null,
      "outputs": []
    }
  ]
}